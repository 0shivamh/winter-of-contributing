{
  "nbformat": 4,
  "nbformat_minor": 0,
  "metadata": {
    "colab": {
      "name": "1.2.2.1_Algorithms:_Recurrence_Relations_(Introduction).ipynb",
      "provenance": [],
      "collapsed_sections": []
    },
    "kernelspec": {
      "name": "python3",
      "display_name": "Python 3"
    },
    "language_info": {
      "name": "python"
    }
  },
  "cells": [
    {
      "cell_type": "markdown",
      "metadata": {
        "id": "bUQ5_yKpCXFv"
      },
      "source": [
        "# Recurrence Relations\n",
        "\n",
        "There are many algorithms, that are defined by the terms of itself. The time complexity of these algorithms is given by the Recurrence Relations. Generally The Divide and Merge Algorithms follow recurrence relations to give their Time Complexity.\n",
        "\n",
        "### **What is Recurrence Relation and Why We use it?**\n",
        "\n",
        "The Mathematical formulation of any Algorithm when it is function its own with same variable is defined as Recurrence Relation. It is often easy to find the recurrence as the solution of counting problem. It is also called as Difference Relation.\n",
        "\n",
        "Many natural functions are easily expressed as Recurrence.\n",
        "- a<sub>n</sub> = a<sub>n-1</sub> + 1, Given that a<sub>1</sub> = 1. This is recurrence realation of **polynomial** equation a<sub>n</sub> = n.\n",
        "- a<sub>n</sub> = 2\\*a<sub>n-1</sub>, Given that a<sub>1</sub> = 1. This is recurrence realation of **exponential** function a<sub>n</sub> = 2<sup>n-1</sup>.\n",
        "- a<sub>n</sub> = n\\*a<sub>n-1</sub>, Given that a<sub>1</sub> = 1. This is recurrence realation of **factorial** function a<sub>n</sub> = n!\n",
        "\n",
        "### **Properties of Recurrence Relations**\n",
        "\n",
        "- #### Order of Recurrence\n",
        "\n",
        "The order of the recurrence relation or difference equation is defined to be the difference between the highest and lowest subscripts of a<sub>r</sub>.\n",
        "\n",
        "The Equation a<sup>3</sup><sub>n</sub> + 2a<sup>2</sup><sub>n+2</sub> + a<sub>n+3</sub> = 0 is 2<sup>nd</sup> order equation as the highest subscript is 3 and lowest subscript is 1. So the difference will 2.\n",
        "\n",
        "- #### Degree of Recurrence\n",
        "\n",
        "The degree of a difference equation is defined to be the highest power of a<sub>r</sub>.\n",
        "\n",
        "The Degree of a<sup>3</sup><sub>n</sub> + 2a<sup>2</sup><sub>n+2</sub> + a<sub>n+3</sub> = 0 this equation will be 3 as maximum power in the equation is 3.\n",
        "\n",
        "### **Recurrence as Mathematical Induction**\n",
        "\n",
        "In both Recurrence and Mathematical Induction we have general and boundary conditions. The General conditions keeps breaking the problem in smaller and smaller pieces. The initial or boundary condition terminates the recursion. Induction provides useful method to  solve recurrences, guess and solution and prove it by induction. Let's Consider an Example.\n",
        "\n",
        "a<sub>n</sub> = 2\\*a<sub>n-1</sub> + 1 Given that a<sub>0</sub> = 0 Guess what the solution is?\n",
        "\n",
        "Let's take some test cases.\n",
        "\n",
        "\n",
        "|n     |0     |1     |2     |3     |4     |5     |6     |7     |\n",
        "|------|------|------|------|------|------|------|------|------|\n",
        "|**T<sub>n</sub>** |**0** |**1**  |**3** |**7** |**15** |**31** |**63** |**127** |\n",
        "\n",
        "From the above values, We can guess the solution as 2<sup>n</sup> - 1. But Let's Prove it by Induction.\n",
        "\n",
        "For base case. a<sub>0</sub> The guessed soltuion gives 0 which is correct answer. \n",
        "\n",
        "Now assume it true for a<sub>n-1</sub>, For a<sub>n</sub> = 2\\*a<sub>n-1</sub> + 1 = 2 ( 2<sup>n-1</sup> - 1 ) + 1 = 2<sup>n</sup> - 1.\n",
        "\n",
        "Hence We guessed our Solution correctly.\n",
        "\n",
        "There are other methods to solve the recurrence relations such as\n",
        "- Substitution Method\n",
        "- Recurrence Tree Method\n",
        "- Master Method\n",
        "\n",
        "You can check the them out in the repository of GirlScript Winter of Contributing.\n",
        "\n",
        "\n",
        "\n",
        "\n",
        "\n",
        "\n",
        "\n"
      ]
    }
  ]
}